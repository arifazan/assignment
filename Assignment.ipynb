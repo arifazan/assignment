{
  "nbformat": 4,
  "nbformat_minor": 0,
  "metadata": {
    "colab": {
      "name": "Untitled0.ipynb",
      "provenance": [],
      "collapsed_sections": [],
      "authorship_tag": "ABX9TyMiGoNz43/llmItckyFtPbl",
      "include_colab_link": true
    },
    "kernelspec": {
      "name": "python3",
      "display_name": "Python 3"
    },
    "language_info": {
      "name": "python"
    }
  },
  "cells": [
    {
      "cell_type": "markdown",
      "metadata": {
        "id": "view-in-github",
        "colab_type": "text"
      },
      "source": [
        "<a href=\"https://colab.research.google.com/github/arifazan/assignment/blob/main/Assignment.ipynb\" target=\"_parent\"><img src=\"https://colab.research.google.com/assets/colab-badge.svg\" alt=\"Open In Colab\"/></a>"
      ]
    },
    {
      "cell_type": "code",
      "metadata": {
        "id": "Kn9Wr8g7Oceu",
        "colab": {
          "base_uri": "https://localhost:8080/",
          "height": 728
        },
        "outputId": "59bd6d89-7340-4581-eb5f-8fcdb42959e8"
      },
      "source": [
        "import os\n",
        "import struct\n",
        "import numpy as np\n",
        "import pandas as pd\n",
        "import tensorflow as tf\n",
        "from tensorflow.keras import layers\n",
        "from tensorflow.keras.layers.experimental import preprocessing\n",
        "import matplotlib.pyplot as plt\n",
        "\n",
        "class Node:\n",
        "    def __init__(self):\n",
        "        self.w = tf.Variable(tf.random.normal([2, 1]))\n",
        "        self.b = tf.Variable(tf.random.normal([1, 1]))\n",
        "        \n",
        "    def __call__(self, x):\n",
        "        return self.preds(x)\n",
        "    \n",
        "    def preds(self,x):\n",
        "        # forward propagation\n",
        "        out = tf.matmul(x,self.w)\n",
        "        out = tf.add(out, self.b)\n",
        "        out = tf.nn.sigmoid(out)\n",
        "        return out\n",
        "    \n",
        "    def loss(self,y_pred, y):\n",
        "        return tf.reduce_mean(tf.square(y_pred - y))\n",
        "\n",
        "    def my_plot(epochs, loss):\n",
        "      plt.plot(epochs, loss)\n",
        "\n",
        "    def train(self, inputs, outputs, learning_rate):\n",
        "        def my_plot(epochs, loss):\n",
        "          plt.plot(epochs, loss)\n",
        "        loss_vals=  []\n",
        "        epoch_loss= []\n",
        "        epochs = range(10000)\n",
        "        for i, epoch in enumerate(epochs):\n",
        "            with tf.GradientTape() as t:\n",
        "                current_loss = self.loss(self.preds(inputs), outputs)\n",
        "                epoch_loss.append(current_loss.numpy())\n",
        "                if i % 1000 == 0:\n",
        "                    print(str(i) + \" epoch, loss: \"+str(current_loss.numpy()))\n",
        "                    loss_vals.append(sum(epoch_loss)/len(epoch_loss))\n",
        "                # back propagation\n",
        "                dW, db = t.gradient(current_loss, [self.w, self.b])\n",
        "                self.w.assign_sub(learning_rate * dW)\n",
        "                self.b.assign_sub(learning_rate * db)\n",
        "        #plotting\n",
        "        my_plot(np.linspace(1, len(loss_vals), len(loss_vals)).astype(int), loss_vals)\n",
        "path = \"/content/assignment.xlsx\"\n",
        "\n",
        "# versicolor as 0 and virginica as 1\n",
        "\n",
        "df = pd.read_excel(path, 'combine')\n",
        "\n",
        "#show the header of each column\n",
        "df.head\n",
        "\n",
        "\n",
        "\n",
        "\n",
        "df_features = df.copy()\n",
        "df_labels = df_features.pop('Target')\n",
        "\n",
        "df_features = np.array(tf.constant(df_features))\n",
        "df_labels = np.array(tf.constant(df_labels))\n",
        "df_features\n",
        "\n",
        "node = Node()\n",
        "# train\n",
        "node.train(df_features.astype('float32'), df_labels.astype('float32'), 0.1)\n",
        "\n",
        "print(\"Node Weights: \",node.w.numpy())\n",
        "print(\"Node Bias: \",node.b.numpy())\n",
        "\n",
        "df_model = tf.keras.Sequential()\n",
        "\n",
        "df_model.add(tf.keras.layers.Layer(trainable=True, name=None, dtype=None, dynamic=False, **kwargs))\n",
        "\n",
        "class SimpleDense(Layer):\n",
        "\n",
        "  def __init__(self, units=32):\n",
        "      super(SimpleDense, self).__init__()\n",
        "      self.units = units\n",
        "\n",
        "  def build(self, input_shape):  # Create the state of the layer (weights)\n",
        "    w_init = tf.random_normal_initializer()\n",
        "    self.w = tf.Variable(\n",
        "        initial_value=w_init(shape=(input_shape[-1], self.units),\n",
        "                             dtype='float32'),\n",
        "        trainable=True)\n",
        "    b_init = tf.zeros_initializer()\n",
        "    self.b = tf.Variable(\n",
        "        initial_value=b_init(shape=(self.units,), dtype='float32'),\n",
        "        trainable=True)\n",
        "\n",
        "  def call(self, inputs):  # Defines the computation from inputs to outputs\n",
        "      return tf.matmul(inputs, self.w) + self.b\n",
        "\n",
        "# Instantiates the layer.\n",
        "linear_layer = SimpleDense(4)\n",
        "\n",
        "# This will also call `build(input_shape)` and create the weights.\n",
        "y = linear_layer(tf.ones((-1, 1)))\n",
        "assert len(linear_layer.weights) == 2\n",
        "\n",
        "df_model.compile(loss = tf.losses.MeanSquaredError(),\n",
        "                       optimizer = tf.optimizers.Adam())\n",
        "\n",
        "df_model.fit(df_features, df_labels, epochs=10)\n",
        "df_model.evaluate(df_features,  df_labels, verbose=2)"
      ],
      "execution_count": 77,
      "outputs": [
        {
          "output_type": "stream",
          "text": [
            "0 epoch, loss: 0.4092565\n",
            "1000 epoch, loss: 0.2518208\n",
            "2000 epoch, loss: 0.25056332\n",
            "3000 epoch, loss: 0.25029364\n",
            "4000 epoch, loss: 0.25021258\n",
            "5000 epoch, loss: 0.2501712\n",
            "6000 epoch, loss: 0.25014147\n",
            "7000 epoch, loss: 0.2501176\n",
            "8000 epoch, loss: 0.25009784\n",
            "9000 epoch, loss: 0.25008142\n",
            "Node Weights:  [[ 0.10747395]\n",
            " [-0.10757029]]\n",
            "Node Bias:  [[-0.3527964]]\n"
          ],
          "name": "stdout"
        },
        {
          "output_type": "error",
          "ename": "NameError",
          "evalue": "ignored",
          "traceback": [
            "\u001b[0;31m---------------------------------------------------------------------------\u001b[0m",
            "\u001b[0;31mNameError\u001b[0m                                 Traceback (most recent call last)",
            "\u001b[0;32m<ipython-input-77-cd719b02337b>\u001b[0m in \u001b[0;36m<module>\u001b[0;34m()\u001b[0m\n\u001b[1;32m     76\u001b[0m \u001b[0mdf_model\u001b[0m \u001b[0;34m=\u001b[0m \u001b[0mtf\u001b[0m\u001b[0;34m.\u001b[0m\u001b[0mkeras\u001b[0m\u001b[0;34m.\u001b[0m\u001b[0mSequential\u001b[0m\u001b[0;34m(\u001b[0m\u001b[0;34m)\u001b[0m\u001b[0;34m\u001b[0m\u001b[0;34m\u001b[0m\u001b[0m\n\u001b[1;32m     77\u001b[0m \u001b[0;34m\u001b[0m\u001b[0m\n\u001b[0;32m---> 78\u001b[0;31m \u001b[0mdf_model\u001b[0m\u001b[0;34m.\u001b[0m\u001b[0madd\u001b[0m\u001b[0;34m(\u001b[0m\u001b[0mtf\u001b[0m\u001b[0;34m.\u001b[0m\u001b[0mkeras\u001b[0m\u001b[0;34m.\u001b[0m\u001b[0mlayers\u001b[0m\u001b[0;34m.\u001b[0m\u001b[0mLayer\u001b[0m\u001b[0;34m(\u001b[0m\u001b[0mtrainable\u001b[0m\u001b[0;34m=\u001b[0m\u001b[0;32mTrue\u001b[0m\u001b[0;34m,\u001b[0m \u001b[0mname\u001b[0m\u001b[0;34m=\u001b[0m\u001b[0;32mNone\u001b[0m\u001b[0;34m,\u001b[0m \u001b[0mdtype\u001b[0m\u001b[0;34m=\u001b[0m\u001b[0;32mNone\u001b[0m\u001b[0;34m,\u001b[0m \u001b[0mdynamic\u001b[0m\u001b[0;34m=\u001b[0m\u001b[0;32mFalse\u001b[0m\u001b[0;34m,\u001b[0m \u001b[0;34m**\u001b[0m\u001b[0mkwargs\u001b[0m\u001b[0;34m)\u001b[0m\u001b[0;34m)\u001b[0m\u001b[0;34m\u001b[0m\u001b[0;34m\u001b[0m\u001b[0m\n\u001b[0m\u001b[1;32m     79\u001b[0m \u001b[0;34m\u001b[0m\u001b[0m\n\u001b[1;32m     80\u001b[0m \u001b[0;32mclass\u001b[0m \u001b[0mSimpleDense\u001b[0m\u001b[0;34m(\u001b[0m\u001b[0mLayer\u001b[0m\u001b[0;34m)\u001b[0m\u001b[0;34m:\u001b[0m\u001b[0;34m\u001b[0m\u001b[0;34m\u001b[0m\u001b[0m\n",
            "\u001b[0;31mNameError\u001b[0m: name 'kwargs' is not defined"
          ]
        },
        {
          "output_type": "display_data",
          "data": {
            "image/png": "[encoded data removed]",
            "text/plain": [
              "<Figure size 432x288 with 1 Axes>"
            ]
          },
          "metadata": {
            "tags": [],
            "needs_background": "light"
          }
        }
      ]
    }
  ]
}