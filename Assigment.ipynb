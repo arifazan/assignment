{
  "nbformat": 4,
  "nbformat_minor": 0,
  "metadata": {
    "colab": {
      "name": "Untitled0.ipynb",
      "provenance": [],
      "collapsed_sections": [],
      "authorship_tag": "ABX9TyPKbga4KZDJ9tOLuRCQODHi",
      "include_colab_link": true
    },
    "kernelspec": {
      "name": "python3",
      "display_name": "Python 3"
    },
    "language_info": {
      "name": "python"
    }
  },
  "cells": [
    {
      "cell_type": "markdown",
      "metadata": {
        "id": "view-in-github",
        "colab_type": "text"
      },
      "source": [
        "<a href=\"https://colab.research.google.com/github/arifazan/assignment/blob/main/Assigment.ipynb\" target=\"_parent\"><img src=\"https://colab.research.google.com/assets/colab-badge.svg\" alt=\"Open In Colab\"/></a>"
      ]
    },
    {
      "cell_type": "code",
      "metadata": {
        "id": "Kn9Wr8g7Oceu",
        "colab": {
          "base_uri": "https://localhost:8080/"
        },
        "outputId": "496bc358-fd45-44d3-a937-9c99bd9499ad"
      },
      "source": [
        "import os\n",
        "import struct\n",
        "import numpy as np\n",
        "import pandas as pd\n",
        "import tensorflow as tf\n",
        "from tensorflow.keras import layers\n",
        "from tensorflow.keras.layers.experimental import preprocessing\n",
        "\n",
        "path = \"/content/assignment.xlsx\"\n",
        "\n",
        "# set versicolor as 0 and virginica as 1\n",
        "# df1 = pd.read_excel(path,'Versicolor')\n",
        "# df2 = pd.read_excel(path,'Virginica')\n",
        "\n",
        "\n",
        "df = pd.read_excel(path, 'combine')\n",
        "\n",
        "#show the header of each column\n",
        "df.head\n",
        "\n",
        "df_features = df.copy()\n",
        "df_labels = df_features.pop('Target')\n",
        "\n",
        "df_features = np.array(df_features)\n",
        "#Shows the result in an array\n",
        "df_features\n",
        "\n",
        "df_model = tf.keras.Sequential([\n",
        "  layers.Dense(64),\n",
        "  layers.Dense(1)\n",
        "])\n",
        "\n",
        "df_model.compile(loss = tf.losses.MeanSquaredError(),\n",
        "                      optimizer = tf.optimizers.Adam())\n",
        "\n",
        "df_model.fit(df_features, df_labels, epochs=10)\n"
      ],
      "execution_count": 37,
      "outputs": [
        {
          "output_type": "stream",
          "text": [
            "Epoch 1/10\n",
            "1/1 [==============================] - 1s 554ms/step - loss: 1.8265\n",
            "Epoch 2/10\n",
            "1/1 [==============================] - 0s 5ms/step - loss: 1.4959\n",
            "Epoch 3/10\n",
            "1/1 [==============================] - 0s 4ms/step - loss: 1.2046\n",
            "Epoch 4/10\n",
            "1/1 [==============================] - 0s 9ms/step - loss: 0.9529\n",
            "Epoch 5/10\n",
            "1/1 [==============================] - 0s 5ms/step - loss: 0.7407\n",
            "Epoch 6/10\n",
            "1/1 [==============================] - 0s 6ms/step - loss: 0.5675\n",
            "Epoch 7/10\n",
            "1/1 [==============================] - 0s 5ms/step - loss: 0.4318\n",
            "Epoch 8/10\n",
            "1/1 [==============================] - 0s 7ms/step - loss: 0.3318\n",
            "Epoch 9/10\n",
            "1/1 [==============================] - 0s 6ms/step - loss: 0.2644\n",
            "Epoch 10/10\n",
            "1/1 [==============================] - 0s 6ms/step - loss: 0.2258\n"
          ],
          "name": "stdout"
        },
        {
          "output_type": "execute_result",
          "data": {
            "text/plain": [
              "<tensorflow.python.keras.callbacks.History at 0x7fa140438e10>"
            ]
          },
          "metadata": {
            "tags": []
          },
          "execution_count": 37
        }
      ]
    },
    {
      "cell_type": "code",
      "metadata": {
        "colab": {
          "base_uri": "https://localhost:8080/"
        },
        "id": "-lx5QSBHPr-H",
        "outputId": "2bb27885-79fd-4781-c110-ef16a104105e"
      },
      "source": [
        "import pandas as pd\n",
        "import tensorflow as tf\n",
        "\n",
        "csv_file = tf.keras.utils.get_file('heart.csv', 'https://storage.googleapis.com/download.tensorflow.org/data/heart.csv')\n",
        "\n",
        "df = pd.read_csv(csv_file)\n",
        "\n",
        "df.head"
      ],
      "execution_count": 21,
      "outputs": [
        {
          "output_type": "execute_result",
          "data": {
            "text/plain": [
              "<bound method NDFrame.head of      age  sex  cp  trestbps  chol  ...  oldpeak  slope  ca        thal  target\n",
              "0     63    1   1       145   233  ...      2.3      3   0       fixed       0\n",
              "1     67    1   4       160   286  ...      1.5      2   3      normal       1\n",
              "2     67    1   4       120   229  ...      2.6      2   2  reversible       0\n",
              "3     37    1   3       130   250  ...      3.5      3   0      normal       0\n",
              "4     41    0   2       130   204  ...      1.4      1   0      normal       0\n",
              "..   ...  ...  ..       ...   ...  ...      ...    ...  ..         ...     ...\n",
              "298   52    1   1       118   186  ...      0.0      2   0       fixed       0\n",
              "299   43    0   4       132   341  ...      3.0      2   0  reversible       1\n",
              "300   65    1   4       135   254  ...      2.8      2   1  reversible       1\n",
              "301   48    1   4       130   256  ...      0.0      1   2  reversible       1\n",
              "302   63    0   4       150   407  ...      4.0      2   3  reversible       1\n",
              "\n",
              "[303 rows x 14 columns]>"
            ]
          },
          "metadata": {
            "tags": []
          },
          "execution_count": 21
        }
      ]
    }
  ]
}