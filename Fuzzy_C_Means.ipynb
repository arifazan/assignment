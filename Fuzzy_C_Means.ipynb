{
  "nbformat": 4,
  "nbformat_minor": 0,
  "metadata": {
    "colab": {
      "name": "Fuzzy C-Means.ipynb",
      "provenance": [],
      "authorship_tag": "ABX9TyOWVV+8hw1kAxwQ/IzRkbaC",
      "include_colab_link": true
    },
    "kernelspec": {
      "name": "python3",
      "display_name": "Python 3"
    },
    "language_info": {
      "name": "python"
    }
  },
  "cells": [
    {
      "cell_type": "markdown",
      "metadata": {
        "id": "view-in-github",
        "colab_type": "text"
      },
      "source": [
        "<a href=\"https://colab.research.google.com/github/arifazan/assignment/blob/main/Fuzzy_C_Means.ipynb\" target=\"_parent\"><img src=\"https://colab.research.google.com/assets/colab-badge.svg\" alt=\"Open In Colab\"/></a>"
      ]
    },
    {
      "cell_type": "code",
      "metadata": {
        "id": "cZIGWw7OoLJr"
      },
      "source": [
        "#!pip3 install pyclustering"
      ],
      "execution_count": 11,
      "outputs": []
    },
    {
      "cell_type": "code",
      "metadata": {
        "colab": {
          "base_uri": "https://localhost:8080/",
          "height": 753
        },
        "id": "OuBxeN2KhdxJ",
        "outputId": "fd5e6dba-cf36-4fc0-b57d-af96e0aab955"
      },
      "source": [
        "from pyclustering.cluster.kmeans import kmeans, kmeans_visualizer\n",
        "from pyclustering.cluster import cluster_visualizer\n",
        "from pyclustering.cluster.center_initializer import kmeans_plusplus_initializer\n",
        "from pyclustering.cluster.fcm import fcm\n",
        "from pyclustering.utils import read_sample\n",
        " \n",
        "# load list of points for cluster analysis\n",
        "sample = ([1,1],[1,2],[2,2],[5,1],[5,2]) \n",
        "# initialize\n",
        "initial_centers = kmeans_plusplus_initializer(sample, 2,1, itermax = 1000).initialize()\n",
        "print(initial_centers) \n",
        "# create instance of Fuzzy C-Means algorithm\n",
        "fcm_instance = fcm(sample, initial_centers)\n",
        " \n",
        "# run cluster analysis and obtain results\n",
        "fcm_instance.process()\n",
        "clusters = fcm_instance.get_clusters()\n",
        "centers = fcm_instance.get_centers()\n",
        " \n",
        "# visualize clustering results\n",
        "visualizer = cluster_visualizer()\n",
        "visualizer.append_clusters(clusters, sample)\n",
        "visualizer.append_cluster(centers, marker='*', markersize=10)\n",
        "visualizer.show(figure=None, invisible_axis=False, visible_grid=True, display=True, shift=None)\n",
        "\n",
        "kmeans_visualizer.show_clusters(sample, clusters, centers,initial_centers=None)"
      ],
      "execution_count": 12,
      "outputs": [
        {
          "output_type": "stream",
          "text": [
            "[array([1, 1]), array([5, 1])]\n"
          ],
          "name": "stdout"
        },
        {
          "output_type": "display_data",
          "data": {
            "image/png": "[encoded data removed]",
            "text/plain": [
              "<Figure size 432x288 with 1 Axes>"
            ]
          },
          "metadata": {
            "tags": [],
            "needs_background": "light"
          }
        },
        {
          "output_type": "display_data",
          "data": {
            "image/png": "[encoded data removed]",
            "text/plain": [
              "<Figure size 432x288 with 1 Axes>"
            ]
          },
          "metadata": {
            "tags": [],
            "needs_background": "light"
          }
        },
        {
          "output_type": "execute_result",
          "data": {
            "image/png": "[encoded data removed]",
            "text/plain": [
              "<Figure size 432x288 with 1 Axes>"
            ]
          },
          "metadata": {
            "tags": []
          },
          "execution_count": 12
        }
      ]
    },
    {
      "cell_type": "code",
      "metadata": {
        "colab": {
          "base_uri": "https://localhost:8080/"
        },
        "id": "4roRZadXufnx",
        "outputId": "6d5fe15e-6ad6-4ce3-b13f-0ded3824daab"
      },
      "source": [
        "#get membership\n",
        "fcm_instance.get_membership()"
      ],
      "execution_count": 13,
      "outputs": [
        {
          "output_type": "execute_result",
          "data": {
            "text/plain": [
              "[[0.9988238696750998, 0.0011761303249002177],\n",
              " [0.9998110968378874, 0.00018890316211262118],\n",
              " [0.9963683166006286, 0.0036316833993714458],\n",
              " [0.0003258197634550089, 0.999674180236545],\n",
              " [0.0003384873572301483, 0.9996615126427698]]"
            ]
          },
          "metadata": {
            "tags": []
          },
          "execution_count": 13
        }
      ]
    },
    {
      "cell_type": "code",
      "metadata": {
        "colab": {
          "base_uri": "https://localhost:8080/",
          "height": 735
        },
        "id": "MClk-heo3SmK",
        "outputId": "66f1c301-dfe1-4a7a-ec98-c2d8ad8526ca"
      },
      "source": [
        "# initialize\n",
        "initial_centers = kmeans_plusplus_initializer(sample, 3,kmeans_plusplus_initializer.FARTHEST_CENTER_CANDIDATE, itermax = 1000).initialize()\n",
        " \n",
        "# create instance of Fuzzy C-Means algorithm\n",
        "fcm_instance = fcm(sample, initial_centers)\n",
        " \n",
        "# run cluster analysis and obtain results\n",
        "fcm_instance.process()\n",
        "clusters = fcm_instance.get_clusters()\n",
        "centers = fcm_instance.get_centers()\n",
        " \n",
        "# visualize clustering results\n",
        "visualizer = cluster_visualizer()\n",
        "visualizer.append_clusters(clusters, sample)\n",
        "visualizer.append_cluster(centers, marker='*', markersize=10)\n",
        "visualizer.show(figure=None, invisible_axis=False, visible_grid=True, display=True, shift=None)\n",
        "\n",
        "kmeans_visualizer.show_clusters(sample, clusters, centers,initial_centers=None)"
      ],
      "execution_count": 14,
      "outputs": [
        {
          "output_type": "display_data",
          "data": {
            "image/png": "[encoded data removed]",
            "text/plain": [
              "<Figure size 432x288 with 1 Axes>"
            ]
          },
          "metadata": {
            "tags": [],
            "needs_background": "light"
          }
        },
        {
          "output_type": "display_data",
          "data": {
            "image/png": "[encoded data removed]",
            "text/plain": [
              "<Figure size 432x288 with 1 Axes>"
            ]
          },
          "metadata": {
            "tags": [],
            "needs_background": "light"
          }
        },
        {
          "output_type": "execute_result",
          "data": {
            "image/png": "[encoded data removed]",
            "text/plain": [
              "<Figure size 432x288 with 1 Axes>"
            ]
          },
          "metadata": {
            "tags": []
          },
          "execution_count": 14
        }
      ]
    },
    {
      "cell_type": "code",
      "metadata": {
        "colab": {
          "base_uri": "https://localhost:8080/"
        },
        "id": "PP_vTP5e4eWy",
        "outputId": "c311f54d-97bc-4af5-fa85-8a13817fc4d1"
      },
      "source": [
        "#get membership\n",
        "fcm_instance.get_membership()"
      ],
      "execution_count": 15,
      "outputs": [
        {
          "output_type": "execute_result",
          "data": {
            "text/plain": [
              "[[0.9836978615323161, 0.00019142595581642105, 0.016110712511867523],\n",
              " [0.8944306613275906, 0.00025557864782578115, 0.10531376002458345],\n",
              " [7.985163411968979e-05, 1.5128447674653946e-06, 0.9999186355211127],\n",
              " [0.00023740711888686953, 0.9992084410278862, 0.0005541518532270011],\n",
              " [0.00023602685147151978, 0.9990926554052688, 0.0006713177432596188]]"
            ]
          },
          "metadata": {
            "tags": []
          },
          "execution_count": 15
        }
      ]
    },
    {
      "cell_type": "code",
      "metadata": {
        "colab": {
          "base_uri": "https://localhost:8080/",
          "height": 753
        },
        "id": "U75rJIn152wa",
        "outputId": "4691371f-3fd8-4d35-fa18-518ee2b92830"
      },
      "source": [
        "# initialize\n",
        "initial_centers = kmeans_plusplus_initializer(sample, 2,kmeans_plusplus_initializer.FARTHEST_CENTER_CANDIDATE, itermax = 1000).initialize()\n",
        "print(initial_centers) \n",
        "# create instance of Fuzzy C-Means algorithm\n",
        "fcm_instance = fcm(sample, initial_centers)\n",
        " \n",
        "# run cluster analysis and obtain results\n",
        "fcm_instance.process()\n",
        "clusters = fcm_instance.get_clusters()\n",
        "centers = fcm_instance.get_centers()\n",
        " \n",
        "# visualize clustering results\n",
        "visualizer = cluster_visualizer()\n",
        "visualizer.append_clusters(clusters, sample)\n",
        "visualizer.append_cluster(centers, marker='*', markersize=10)\n",
        "visualizer.show(figure=None, invisible_axis=False, visible_grid=True, display=True, shift=None)\n",
        "\n",
        "kmeans_visualizer.show_clusters(sample, clusters, centers,initial_centers=None)"
      ],
      "execution_count": 16,
      "outputs": [
        {
          "output_type": "stream",
          "text": [
            "[array([5, 1]), array([1, 2])]\n"
          ],
          "name": "stdout"
        },
        {
          "output_type": "display_data",
          "data": {
            "image/png": "[encoded data removed]",
            "text/plain": [
              "<Figure size 432x288 with 1 Axes>"
            ]
          },
          "metadata": {
            "tags": [],
            "needs_background": "light"
          }
        },
        {
          "output_type": "display_data",
          "data": {
            "image/png": "[encoded data removed]",
            "text/plain": [
              "<Figure size 432x288 with 1 Axes>"
            ]
          },
          "metadata": {
            "tags": [],
            "needs_background": "light"
          }
        },
        {
          "output_type": "execute_result",
          "data": {
            "image/png": "[encoded data removed]",
            "text/plain": [
              "<Figure size 432x288 with 1 Axes>"
            ]
          },
          "metadata": {
            "tags": []
          },
          "execution_count": 16
        }
      ]
    }
  ]
}